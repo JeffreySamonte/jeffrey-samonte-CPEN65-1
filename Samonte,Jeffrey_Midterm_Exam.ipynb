{
  "nbformat": 4,
  "nbformat_minor": 0,
  "metadata": {
    "colab": {
      "provenance": [],
      "authorship_tag": "ABX9TyNC+VE9zAzmgisYyF8RniGx",
      "include_colab_link": true
    },
    "kernelspec": {
      "name": "python3",
      "display_name": "Python 3"
    },
    "language_info": {
      "name": "python"
    }
  },
  "cells": [
    {
      "cell_type": "markdown",
      "metadata": {
        "id": "view-in-github",
        "colab_type": "text"
      },
      "source": [
        "<a href=\"https://colab.research.google.com/github/JeffreySamonte/jeffrey-samonte-CPEN65-1/blob/main/Samonte%2CJeffrey_Midterm_Exam.ipynb\" target=\"_parent\"><img src=\"https://colab.research.google.com/assets/colab-badge.svg\" alt=\"Open In Colab\"/></a>"
      ]
    },
    {
      "cell_type": "code",
      "execution_count": null,
      "metadata": {
        "colab": {
          "base_uri": "https://localhost:8080/"
        },
        "id": "3INfLvHm5iiT",
        "outputId": "223efbeb-5a3c-42d3-dee5-b351df7889c0"
      },
      "outputs": [
        {
          "output_type": "stream",
          "name": "stdout",
          "text": [
            "array('i', [0, 1, 2, 3, 4, 5, 6, 7, 8, 9])\n",
            "0\n",
            "1\n",
            "2\n",
            "3\n",
            "4\n",
            "5\n",
            "6\n",
            "7\n",
            "8\n",
            "9\n",
            "45\n"
          ]
        }
      ],
      "source": [
        "##Write a Python program to create an array of 10 integers and display the array items.\n",
        "import array as arr\n",
        "\n",
        "a=arr.array(\"i\",[0, 1, 2, 3, 4, 5, 6, 7, 8, 9])\n",
        "print(a)\n",
        "\n",
        "##Access individual elements through indexes and compute for the sum.\n",
        "\n",
        "print(a[0])\n",
        "print(a[1])\n",
        "print(a[2])\n",
        "print(a[3])\n",
        "print(a[4])\n",
        "print(a[5])\n",
        "print(a[6])\n",
        "print(a[7])\n",
        "print(a[8])\n",
        "print(a[9])\n",
        "\n",
        "arr=[0,1,2,3,4,5,6,7,8,9]\n",
        "print(sum(arr))"
      ]
    },
    {
      "cell_type": "code",
      "source": [
        "integers = [\"1\",\"2\",\"3\",\"4\",\"5\",\"6\",\"7\",\"8\",\"9\",\"10\"]\n",
        "integers.append(\"11\")\n",
        "print(integers)\n",
        "\n",
        "b= integers.insert(-1,12)\n",
        "print(integers)"
      ],
      "metadata": {
        "colab": {
          "base_uri": "https://localhost:8080/"
        },
        "id": "7RAB2hQTAEvb",
        "outputId": "d956cc91-3b45-4906-fde6-b5a75042fb9b"
      },
      "execution_count": null,
      "outputs": [
        {
          "output_type": "stream",
          "name": "stdout",
          "text": [
            "['1', '2', '3', '4', '5', '6', '7', '8', '9', '10', '11']\n",
            "['1', '2', '3', '4', '5', '6', '7', '8', '9', '10', 12, '11']\n"
          ]
        }
      ]
    },
    {
      "cell_type": "code",
      "source": [
        "integers = [1,2,3,4,5]\n",
        "integers.reverse()\n",
        "print(integers)"
      ],
      "metadata": {
        "colab": {
          "base_uri": "https://localhost:8080/"
        },
        "id": "W6fItn7CB0ZP",
        "outputId": "1c1bc8c7-d401-4961-94d0-d9fd5a8d7ebd"
      },
      "execution_count": null,
      "outputs": [
        {
          "output_type": "stream",
          "name": "stdout",
          "text": [
            "[5, 4, 3, 2, 1]\n"
          ]
        }
      ]
    },
    {
      "cell_type": "code",
      "source": [
        "#5. Let A be an array of size n ≥ 2 containing integers from 1 to n−1, inclusive, with exactly one repeated. Create an algorithm for finding the integer in A that is repeated.\n",
        "import array as arr\n",
        "\n",
        "a=arr.array(\"i\",[1,2,2,3])\n",
        "arr2 = []\n",
        "\n",
        "for I in a:\n",
        "  if I not in arr2:\n",
        "    arr2.append(I)\n",
        "  else:\n",
        "    print(f'the repeating integer is: {I}')"
      ],
      "metadata": {
        "colab": {
          "base_uri": "https://localhost:8080/"
        },
        "id": "8alRe8bVimnp",
        "outputId": "7156bb0e-cb85-48fe-befd-3902584210fc"
      },
      "execution_count": 49,
      "outputs": [
        {
          "output_type": "stream",
          "name": "stdout",
          "text": [
            "the repeating integer is: 2\n"
          ]
        }
      ]
    }
  ]
}