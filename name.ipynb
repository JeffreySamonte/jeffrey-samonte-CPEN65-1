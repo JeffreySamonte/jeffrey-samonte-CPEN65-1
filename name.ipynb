{
  "nbformat": 4,
  "nbformat_minor": 0,
  "metadata": {
    "colab": {
      "provenance": [],
      "authorship_tag": "ABX9TyOsKP1HeKjT+S46tK7t/vAW",
      "include_colab_link": true
    },
    "kernelspec": {
      "name": "python3",
      "display_name": "Python 3"
    },
    "language_info": {
      "name": "python"
    }
  },
  "cells": [
    {
      "cell_type": "markdown",
      "metadata": {
        "id": "view-in-github",
        "colab_type": "text"
      },
      "source": [
        "<a href=\"https://colab.research.google.com/github/JeffreySamonte/jeffrey-samonte-CPEN65-1/blob/main/name.ipynb\" target=\"_parent\"><img src=\"https://colab.research.google.com/assets/colab-badge.svg\" alt=\"Open In Colab\"/></a>"
      ]
    },
    {
      "cell_type": "code",
      "execution_count": 6,
      "metadata": {
        "colab": {
          "base_uri": "https://localhost:8080/"
        },
        "id": "dXD7MAnDIAzh",
        "outputId": "7da53656-caf5-4029-9562-da8177190823"
      },
      "outputs": [
        {
          "output_type": "stream",
          "name": "stdout",
          "text": [
            "['e', 't', 'n', 'o', 'm', 'a', 'S', 'y', 'e', 'r', 'f', 'f', 'e', 'J']\n"
          ]
        }
      ],
      "source": [
        "name = [\"J\", \"e\", \"f\", \"f\", \"r\", \"e\", \"y\", \"S\", \"a\", \"m\", \"o\", \"n\", \"t\", \"e\",]\n",
        "name.reverse()\n",
        "print(name)"
      ]
    }
  ]
}